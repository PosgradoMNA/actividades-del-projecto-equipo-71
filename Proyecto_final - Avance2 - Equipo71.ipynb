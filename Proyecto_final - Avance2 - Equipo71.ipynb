{
  "nbformat": 4,
  "nbformat_minor": 0,
  "metadata": {
    "colab": {
      "provenance": [],
      "authorship_tag": "ABX9TyP9zB/XktkiatYlIGHYLbvh",
      "include_colab_link": true
    },
    "kernelspec": {
      "name": "python3",
      "display_name": "Python 3"
    },
    "language_info": {
      "name": "python"
    }
  },
  "cells": [
    {
      "cell_type": "markdown",
      "metadata": {
        "id": "view-in-github",
        "colab_type": "text"
      },
      "source": [
        "<a href=\"https://colab.research.google.com/github/PosgradoMNA/actividades-del-projecto-equipo-71/blob/main/Proyecto_final%20-%20Avance2%20-%20Equipo71.ipynb\" target=\"_parent\"><img src=\"https://colab.research.google.com/assets/colab-badge.svg\" alt=\"Open In Colab\"/></a>"
      ]
    },
    {
      "cell_type": "markdown",
      "source": [
        "# Proyecto final - Avance 2"
      ],
      "metadata": {
        "id": "ii_l-z4n4Wif"
      }
    },
    {
      "cell_type": "markdown",
      "source": [
        "### Equipo 71\n",
        "\n",
        "Integrantes del equipo:\n",
        "\n",
        "Francisco Xavier Bastidas Moreno | A01794188\n",
        "\n",
        "Ignacio Antonio Quintero Chávez | A01794419"
      ],
      "metadata": {
        "id": "JmjKG2cB4cxp"
      }
    },
    {
      "cell_type": "markdown",
      "source": [
        "### Metodología a utilizar: CRISP-DM"
      ],
      "metadata": {
        "id": "O6HuvkXPBHeU"
      }
    },
    {
      "cell_type": "markdown",
      "source": [
        "El modelo CRISP-DM por sus siglas en inglés, Cross  Industry Standard Process for Data Mining, es una metodología que sirve como base para un proyecto de ciencia de datos y proporciona una descripción generalizada del ciclo de vida de este tipo de proyectos.\n",
        "\n",
        "Tiene seis fases secuenciales descritas a continuación.\n"
      ],
      "metadata": {
        "id": "_v3W_VjT_rii"
      }
    },
    {
      "cell_type": "markdown",
      "source": [
        "### Fases de la metodología CRISP-DM"
      ],
      "metadata": {
        "id": "FUp1JeWiBpyg"
      }
    },
    {
      "cell_type": "markdown",
      "source": [
        "**1. Entendimiento del negocio – ¿Qué necesita el negocio?**\n",
        "\n",
        "Esta fase se centra en la comprensión de los objetivos y requisitos del proyecto. Algunas actividades fundamentales son:\n",
        "\n",
        "*   Determinar los objetivos de la empresa o cliente.\n",
        "*   Evaluar la situación, recursos, riesgos, etc.\n",
        "*   Determinar los objetivos de la minería de datos."
      ],
      "metadata": {
        "id": "0koMkszhBxIa"
      }
    },
    {
      "cell_type": "markdown",
      "source": [
        "**2. Comprensión de datos – ¿Qué datos tenemos/necesitamos? ¿Están limpios?**\n",
        "\n",
        "Esta fase se enfoca en identificar, recopilar y analizar los conjuntos de datos que pueden ayudar a lograr los objetivos del proyecto.\n",
        "Consta de cuatro actividades: recopilar datos iniciales, describir los datos, explorar los datos y verificar la calidad de los datos.\n",
        "\n",
        "\n",
        "Al tener una comprensión del negocio y los datos, estos podrán limpiar o depurar de una manera más eficiente, utilizando solo aquellos que van acorde a los objetivos propuestos. \n"
      ],
      "metadata": {
        "id": "z0Y0D8yjCVIB"
      }
    },
    {
      "cell_type": "markdown",
      "source": [
        "**3. Preparación de datos – ¿Cómo organizamos los datos para el modelado?**\n",
        "\n",
        "En esta fase se selecciona y prepara el conjunto de datos para el modelado. Algunas actividades en esta fase son la limpieza y transformación de datos, construcción de datos o atributos adicionales, y combinación o integración de datos.\n"
      ],
      "metadata": {
        "id": "prH4z7DxCh7V"
      }
    },
    {
      "cell_type": "markdown",
      "source": [
        "**4. Modelado – ¿Qué técnicas de modelado debemos aplicar?**\n",
        "\n",
        "Esta fase se enfoca en seleccionar y aplicar las técnicas de modelado que sean apropiadas al problema, por ejemplo, regression o neural networks. Por otro lado, se construye y evalúa el modelo de acuerdo a los criterios de éxito y el diseño de prueba deseado.\n"
      ],
      "metadata": {
        "id": "xSAzRRQFC0v6"
      }
    },
    {
      "cell_type": "markdown",
      "source": [
        "**5. Evaluación – ¿Qué modelo cumple mejor con los objetivos comerciales?**"
      ],
      "metadata": {
        "id": "F-DwVovLDCB7"
      }
    },
    {
      "cell_type": "markdown",
      "source": [
        "Si los modelos obtenidos cumplen con las expectativas de negocio, se procede a la explotación del modelo. Si no, se evalúa en esta fase si se procede a iterar nuevamente sobre los pasos anteriores con el objetivo de encontrar nuevos resultados. Consta de 3 pasos: Evaluación de resultados, proceso de revisión y determinar los próximos pasos."
      ],
      "metadata": {
        "id": "Y0lKhlSEPbte"
      }
    },
    {
      "cell_type": "markdown",
      "source": [
        "**6. Implementación – ¿Cómo acceden las partes interesadas a los resultados?**"
      ],
      "metadata": {
        "id": "KEL7bSmNDXmo"
      }
    },
    {
      "cell_type": "markdown",
      "source": [
        "En esta última fase es donde se definen las estrategias para su implementación, monitorización y mantenimiento de los modelos. Esta fase cuenta con 4 actividades: Planificar la implementación, supervisión del plan, producir el informe final y revisar el proyecto."
      ],
      "metadata": {
        "id": "2oZ4xEjtP7Ox"
      }
    },
    {
      "cell_type": "markdown",
      "source": [
        "### Diagrama de la metodología CRISP-DM"
      ],
      "metadata": {
        "id": "BX2Fp_Y2EFSU"
      }
    },
    {
      "cell_type": "markdown",
      "source": [],
      "metadata": {
        "id": "hzuTGeHkER1w"
      }
    },
    {
      "cell_type": "markdown",
      "source": [
        "### Referencias"
      ],
      "metadata": {
        "id": "Ljc259bPEKRW"
      }
    },
    {
      "cell_type": "markdown",
      "source": [
        "Hotz, N. (2018, septiembre 10). *What is CRISP DM?* Data Science Process Alliance. Recuperado el 28 de septiembre de 2022, de\n",
        "\n",
        "https://www.datascience-pm.com/crisp-dm-2/\n",
        "\n",
        "\n",
        "Gil, B. (2016, agosto 2). *CRISP-DM: La metodología para poner orden en los proyectos.* Sngular. Recuperado el 28 de septiembre, de\n",
        "\n",
        "https://www.sngular.com/es/data-science-crisp-dm-metodologia/\n"
      ],
      "metadata": {
        "id": "6tp0rpb6ENnc"
      }
    }
  ]
}