{
  "nbformat": 4,
  "nbformat_minor": 0,
  "metadata": {
    "colab": {
      "provenance": [],
      "authorship_tag": "ABX9TyP7n834LIp3J893FBYMKk+0",
      "include_colab_link": true
    },
    "kernelspec": {
      "name": "python3",
      "display_name": "Python 3"
    },
    "language_info": {
      "name": "python"
    }
  },
  "cells": [
    {
      "cell_type": "markdown",
      "metadata": {
        "id": "view-in-github",
        "colab_type": "text"
      },
      "source": [
        "<a href=\"https://colab.research.google.com/github/PosgradoMNA/actividades-del-projecto-equipo-71/blob/main/Proyecto_final%20-%20Avance2%20-%20Equipo71.ipynb\" target=\"_parent\"><img src=\"https://colab.research.google.com/assets/colab-badge.svg\" alt=\"Open In Colab\"/></a>"
      ]
    },
    {
      "cell_type": "markdown",
      "source": [
        "# Proyecto final - Avance 2"
      ],
      "metadata": {
        "id": "ii_l-z4n4Wif"
      }
    },
    {
      "cell_type": "markdown",
      "source": [
        "### Equipo 71\n",
        "\n",
        "Integrantes del equipo:\n",
        "\n",
        "Francisco Xavier Bastidas Moreno | A01794188\n",
        "\n",
        "Ignacio Antonio Quintero Chávez | A01794419"
      ],
      "metadata": {
        "id": "JmjKG2cB4cxp"
      }
    },
    {
      "cell_type": "markdown",
      "source": [
        "### Metodología a utilizar: CRISP-DM"
      ],
      "metadata": {
        "id": "O6HuvkXPBHeU"
      }
    },
    {
      "cell_type": "markdown",
      "source": [
        "El modelo CRISP-DM por sus siglas en inglés, Cross  Industry Standard Process for Data Mining, es una metodología que sirve como base para un proyecto de ciencia de datos y proporciona una descripción generalizada del ciclo de vida de este tipo de proyectos.\n",
        "\n",
        "Tiene seis fases secuenciales descritas a continuación.\n"
      ],
      "metadata": {
        "id": "_v3W_VjT_rii"
      }
    },
    {
      "cell_type": "markdown",
      "source": [
        "### Fases de la metodología CRISP-DM"
      ],
      "metadata": {
        "id": "FUp1JeWiBpyg"
      }
    },
    {
      "cell_type": "markdown",
      "source": [
        "**1. Entendimiento del negocio – ¿Qué necesita el negocio?**\n",
        "\n",
        "Esta fase se centra en la comprensión de los objetivos y requisitos del proyecto. Algunas actividades fundamentales son:\n",
        "\n",
        "*   Determinar los objetivos de la empresa o cliente.\n",
        "*   Evaluar la situación, recursos, riesgos, etc.\n",
        "*   Determinar los objetivos de la minería de datos."
      ],
      "metadata": {
        "id": "0koMkszhBxIa"
      }
    },
    {
      "cell_type": "markdown",
      "source": [
        "**2. Comprensión de datos: ¿qué datos tenemos/necesitamos? ¿Están limpios?**\n",
        "\n",
        "Esta fase se enfoca en identificar, recopilar y analizar los conjuntos de datos que pueden ayudar a lograr los objetivos del proyecto.\n",
        "Consta de cuatro actividades: recopilar datos iniciales, describir los datos, explorar los datos y verificar la calidad de los datos.\n",
        "\n",
        "\n",
        "Al tener una comprensión del negocio y los datos, estos podrán limpiar o depurar de una manera más eficiente, utilizando solo aquellos que van acorde a los objetivos propuestos. \n"
      ],
      "metadata": {
        "id": "z0Y0D8yjCVIB"
      }
    },
    {
      "cell_type": "markdown",
      "source": [
        "**3. Preparación de datos: ¿cómo organizamos los datos para el modelado?**\n",
        "\n",
        "En esta fase se selecciona y prepara el conjunto de datos para el modelado. Algunas actividades en esta fase son la limpieza y transformación de datos, construcción de datos o atributos adicionales, y combinación o integración de datos.\n"
      ],
      "metadata": {
        "id": "prH4z7DxCh7V"
      }
    },
    {
      "cell_type": "code",
      "source": [],
      "metadata": {
        "id": "PMlYSMY6CnXU"
      },
      "execution_count": null,
      "outputs": []
    },
    {
      "cell_type": "code",
      "source": [],
      "metadata": {
        "id": "jGmIhHccCmTk"
      },
      "execution_count": null,
      "outputs": []
    }
  ]
}