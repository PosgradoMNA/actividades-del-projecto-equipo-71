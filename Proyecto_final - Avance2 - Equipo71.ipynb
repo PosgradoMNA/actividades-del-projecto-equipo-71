{
  "nbformat": 4,
  "nbformat_minor": 0,
  "metadata": {
    "colab": {
      "provenance": [],
      "authorship_tag": "ABX9TyNzQ70fbQGTS2obQ0lr7L0q",
      "include_colab_link": true
    },
    "kernelspec": {
      "name": "python3",
      "display_name": "Python 3"
    },
    "language_info": {
      "name": "python"
    }
  },
  "cells": [
    {
      "cell_type": "markdown",
      "metadata": {
        "id": "view-in-github",
        "colab_type": "text"
      },
      "source": [
        "<a href=\"https://colab.research.google.com/github/PosgradoMNA/actividades-del-projecto-equipo-71/blob/main/Proyecto_final%20-%20Avance2%20-%20Equipo71.ipynb\" target=\"_parent\"><img src=\"https://colab.research.google.com/assets/colab-badge.svg\" alt=\"Open In Colab\"/></a>"
      ]
    },
    {
      "cell_type": "markdown",
      "source": [
        "# Proyecto final - Avance 2"
      ],
      "metadata": {
        "id": "ii_l-z4n4Wif"
      }
    },
    {
      "cell_type": "markdown",
      "source": [
        "### Equipo 71\n",
        "\n",
        "Integrantes del equipo:\n",
        "\n",
        "Francisco Xavier Bastidas Moreno | A01794188\n",
        "\n",
        "Ignacio Antonio Quintero Chávez | A01794419"
      ],
      "metadata": {
        "id": "JmjKG2cB4cxp"
      }
    },
    {
      "cell_type": "code",
      "source": [],
      "metadata": {
        "id": "3IJcSAEl4lSH"
      },
      "execution_count": null,
      "outputs": []
    }
  ]
}