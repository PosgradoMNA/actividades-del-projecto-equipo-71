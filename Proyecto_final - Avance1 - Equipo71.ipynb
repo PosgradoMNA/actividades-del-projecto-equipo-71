{
  "nbformat": 4,
  "nbformat_minor": 0,
  "metadata": {
    "colab": {
      "provenance": [],
      "authorship_tag": "ABX9TyM//WZMm2dutapPAXq11fpD",
      "include_colab_link": true
    },
    "kernelspec": {
      "name": "python3",
      "display_name": "Python 3"
    },
    "language_info": {
      "name": "python"
    }
  },
  "cells": [
    {
      "cell_type": "markdown",
      "metadata": {
        "id": "view-in-github",
        "colab_type": "text"
      },
      "source": [
        "<a href=\"https://colab.research.google.com/github/PosgradoMNA/actividades-del-projecto-equipo-71/blob/main/Proyecto_final%20-%20Avance1%20-%20Equipo71.ipynb\" target=\"_parent\"><img src=\"https://colab.research.google.com/assets/colab-badge.svg\" alt=\"Open In Colab\"/></a>"
      ]
    },
    {
      "cell_type": "markdown",
      "source": [
        "# Proyecto final - Avance 1"
      ],
      "metadata": {
        "id": "BYZoMS3tkdgL"
      }
    },
    {
      "cell_type": "markdown",
      "source": [
        "### Equipo 71 "
      ],
      "metadata": {
        "id": "v9WCApoPrUcB"
      }
    },
    {
      "cell_type": "markdown",
      "source": [
        "Integrantes del equipo:\n",
        "\n",
        "*   Francisco Xavier Bastidas Moreno | A01794188\n",
        "*   Ignacio Antonio Quintero Chávez | A01794419\n",
        "\n",
        "\n",
        "\n"
      ],
      "metadata": {
        "id": "1rpA_Sj3rjYc"
      }
    },
    {
      "cell_type": "code",
      "source": [],
      "metadata": {
        "id": "jQawKi1KsMKI"
      },
      "execution_count": null,
      "outputs": []
    }
  ]
}