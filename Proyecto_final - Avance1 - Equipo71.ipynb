{
  "nbformat": 4,
  "nbformat_minor": 0,
  "metadata": {
    "colab": {
      "provenance": [],
      "authorship_tag": "ABX9TyPF1tEA8F8F0a9EVtNVkHQ8",
      "include_colab_link": true
    },
    "kernelspec": {
      "name": "python3",
      "display_name": "Python 3"
    },
    "language_info": {
      "name": "python"
    }
  },
  "cells": [
    {
      "cell_type": "markdown",
      "metadata": {
        "id": "view-in-github",
        "colab_type": "text"
      },
      "source": [
        "<a href=\"https://colab.research.google.com/github/PosgradoMNA/actividades-del-projecto-equipo-71/blob/main/Proyecto_final%20-%20Avance1%20-%20Equipo71.ipynb\" target=\"_parent\"><img src=\"https://colab.research.google.com/assets/colab-badge.svg\" alt=\"Open In Colab\"/></a>"
      ]
    },
    {
      "cell_type": "markdown",
      "source": [
        "# Proyecto final - Avance 1"
      ],
      "metadata": {
        "id": "BYZoMS3tkdgL"
      }
    },
    {
      "cell_type": "markdown",
      "source": [
        "### Equipo 71 "
      ],
      "metadata": {
        "id": "v9WCApoPrUcB"
      }
    },
    {
      "cell_type": "markdown",
      "source": [
        "Integrantes del equipo:\n",
        "\n",
        "*   Francisco Xavier Bastidas Moreno | A01794188\n",
        "*   Ignacio Antonio Quintero Chávez | A01794419\n",
        "\n",
        "\n",
        "\n"
      ],
      "metadata": {
        "id": "1rpA_Sj3rjYc"
      }
    },
    {
      "cell_type": "markdown",
      "source": [
        "**Nombre que caracteriza el conjunto de datos:**\n",
        "\n",
        "Mental Health in Tech Survey\n",
        "\n"
      ],
      "metadata": {
        "id": "DPnVx0hkstme"
      }
    },
    {
      "cell_type": "markdown",
      "source": [
        "**¿Qué organización lo generó?**\n",
        "\n",
        "Open Sourcing Mental Illness - https://osmhhelp.org/"
      ],
      "metadata": {
        "id": "rXPRsk-BuhCa"
      }
    },
    {
      "cell_type": "markdown",
      "source": [
        "**Incluya un enlace de Internet donde se pueda descargar la base de datos en línea**\n",
        "\n",
        "https://www.kaggle.com/datasets/osmi/mental-health-in-tech-survey"
      ],
      "metadata": {
        "id": "5d_kvH1tuw7B"
      }
    },
    {
      "cell_type": "markdown",
      "source": [
        "**Describe el conjunto de datos. ¿Qué datos contiene?**\n",
        "\n"
      ],
      "metadata": {
        "id": "xb0OUYvXu8sp"
      }
    },
    {
      "cell_type": "markdown",
      "source": [
        "El conjunto de datos consiste en 26 preguntas que fueron aplicadas a 1259 personas. Los datos son de tipo cuantitativo y cualitativo. Las preguntas de la encuesta son:\n",
        "\n",
        "* Edad.\n",
        "* Género.\n",
        "* País.\n",
        "* Si vives en los Estados Unidos, ¿en qué estado?\n",
        "* ¿Trabajas por tu cuenta?\n",
        "* ¿Tienes antecedentes familiares de enfermedades mentales?\n",
        "* ¿Ha buscando tratamiento para una condición mental?\n",
        "* Si tienes una enfermedad mental, ¿consideras que esta interfiere con tu trabajo?\n",
        "* ¿Cuántos empleados tiene tu organización?\n",
        "* ¿Trabajas de manera remota (fuera de la oficina) por lo menos 50% de tu tiempo?\n",
        "* ¿La empresa donde trabajas es principalmente de tecnología?\n",
        "* ¿Tu empresa te proporciona beneficios para enfermedades mentales?\n",
        "* ¿Conoces las opciones para el cuidado de la salud mental que tu empresa ofrece?\n",
        "* ¿Alguna vez tu empresa ha hablado sobre la salud mental como parte de un programa de bienestar para empleados?\n",
        "* ¿Tu empresa proporciona recursos para aprender mas acerca de los problemas de enfermedades mentales y cómo buscar ayuda?\n",
        "* ¿Tu anonimato está protegido si decides aprovechas los recursos de tratamiento de salud mental o abuso de sustancias?\n",
        "* ¿Qué tan fácil es para ti tomar una licencia médica por una condición de salud mental?\n",
        "* ¿Consideras que hablar sobre un problema de salud mental con tu empresa tendría consecuencias negativas?\n",
        "* ¿Consideras que hablar sobre un problema de salud física con tu empresa tendría consecuencias negativas?\n",
        "* ¿Estarías dispuesto a hablar sobre un problema de salud mental con sus compañeros de trabajo?\n",
        "* ¿Estarías dispuesto a discutir un problema de salud mental con tus supervisores directos? \n",
        "* ¿Hablarías sobre un problema de salud mental con un empleado potencial en una entrevista?\n",
        "* ¿Consideras que tu empresa se toma la salud mental tan en serio como la salud física?\n",
        "* ¿Has oído hablar u observado consecuencias negativas para los compañeros de trabajo con problemas de salud mental en su lugar de trabajo?\n",
        "*   Cualquier nota o comentario adicional."
      ],
      "metadata": {
        "id": "8ZZwpdtIHBrg"
      }
    },
    {
      "cell_type": "markdown",
      "source": [
        "**¿Cuáles son algunas de las preguntas de investigación que podría responder con estos datos? Enumere al menos ocho.**"
      ],
      "metadata": {
        "id": "wkvP-rWZvIVk"
      }
    },
    {
      "cell_type": "markdown",
      "source": [
        "**¿Qué actor (empresa, sector de la sociedad, organismo descentralizado, gobierno, etc.) estaría interesado en las preguntas mencionadas que identificó?**\n",
        "\n"
      ],
      "metadata": {
        "id": "R_hP-b1WvL0q"
      }
    }
  ]
}