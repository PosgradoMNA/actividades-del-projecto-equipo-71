{
  "nbformat": 4,
  "nbformat_minor": 0,
  "metadata": {
    "colab": {
      "provenance": [],
      "include_colab_link": true
    },
    "kernelspec": {
      "name": "python3",
      "display_name": "Python 3"
    },
    "language_info": {
      "name": "python"
    }
  },
  "cells": [
    {
      "cell_type": "markdown",
      "metadata": {
        "id": "view-in-github",
        "colab_type": "text"
      },
      "source": [
        "<a href=\"https://colab.research.google.com/github/PosgradoMNA/actividades-del-projecto-equipo-71/blob/main/Proyecto_final%20-%20Avance1%20-%20Equipo71.ipynb\" target=\"_parent\"><img src=\"https://colab.research.google.com/assets/colab-badge.svg\" alt=\"Open In Colab\"/></a>"
      ]
    },
    {
      "cell_type": "markdown",
      "source": [
        "# Proyecto final - Avance 1"
      ],
      "metadata": {
        "id": "BYZoMS3tkdgL"
      }
    },
    {
      "cell_type": "markdown",
      "source": [
        "### Equipo 71 "
      ],
      "metadata": {
        "id": "v9WCApoPrUcB"
      }
    },
    {
      "cell_type": "markdown",
      "source": [
        "Integrantes del equipo:\n",
        "\n",
        "*   Francisco Xavier Bastidas Moreno | A01794188\n",
        "*   Ignacio Antonio Quintero Chávez | A01794419\n",
        "\n",
        "\n",
        "\n"
      ],
      "metadata": {
        "id": "1rpA_Sj3rjYc"
      }
    },
    {
      "cell_type": "markdown",
      "source": [
        "**Nombre que caracteriza el conjunto de datos:**\n",
        "\n",
        "Mental Health in Tech Survey\n",
        "\n"
      ],
      "metadata": {
        "id": "DPnVx0hkstme"
      }
    },
    {
      "cell_type": "markdown",
      "source": [
        "**¿Qué organización lo generó?**\n",
        "\n",
        "Open Sourcing Mental Illness - https://osmhhelp.org/"
      ],
      "metadata": {
        "id": "rXPRsk-BuhCa"
      }
    },
    {
      "cell_type": "markdown",
      "source": [
        "**Incluya un enlace de Internet donde se pueda descargar la base de datos en línea**\n",
        "\n",
        "https://www.kaggle.com/datasets/osmi/mental-health-in-tech-survey"
      ],
      "metadata": {
        "id": "5d_kvH1tuw7B"
      }
    },
    {
      "cell_type": "markdown",
      "source": [
        "**Describe el conjunto de datos. ¿Qué datos contiene?**\n",
        "\n"
      ],
      "metadata": {
        "id": "xb0OUYvXu8sp"
      }
    },
    {
      "cell_type": "markdown",
      "source": [
        "El conjunto de datos consiste en 26 preguntas que fueron aplicadas a 1259 personas. Los datos son de tipo cuantitativo y cualitativo. Las preguntas de la encuesta son:\n",
        "\n",
        "* Edad.\n",
        "* Género.\n",
        "* País.\n",
        "* Si vives en los Estados Unidos, ¿en qué estado?\n",
        "* ¿Trabajas por tu cuenta?\n",
        "* ¿Tienes antecedentes familiares de enfermedades mentales?\n",
        "* ¿Ha buscando tratamiento para una condición mental?\n",
        "* Si tienes una enfermedad mental, ¿consideras que esta interfiere con tu trabajo?\n",
        "* ¿Cuántos empleados tiene tu organización?\n",
        "* ¿Trabajas de manera remota (fuera de la oficina) por lo menos 50% de tu tiempo?\n",
        "* ¿La empresa donde trabajas es principalmente de tecnología?\n",
        "* ¿Tu empresa te proporciona beneficios para enfermedades mentales?\n",
        "* ¿Conoces las opciones para el cuidado de la salud mental que tu empresa ofrece?\n",
        "* ¿Alguna vez tu empresa ha hablado sobre la salud mental como parte de un programa de bienestar para empleados?\n",
        "* ¿Tu empresa proporciona recursos para aprender mas acerca de los problemas de enfermedades mentales y cómo buscar ayuda?\n",
        "* ¿Tu anonimato está protegido si decides aprovechas los recursos de tratamiento de salud mental o abuso de sustancias?\n",
        "* ¿Qué tan fácil es para ti tomar una licencia médica por una condición de salud mental?\n",
        "* ¿Consideras que hablar sobre un problema de salud mental con tu empresa tendría consecuencias negativas?\n",
        "* ¿Consideras que hablar sobre un problema de salud física con tu empresa tendría consecuencias negativas?\n",
        "* ¿Estarías dispuesto a hablar sobre un problema de salud mental con sus compañeros de trabajo?\n",
        "* ¿Estarías dispuesto a discutir un problema de salud mental con tus supervisores directos? \n",
        "* ¿Hablarías sobre un problema de salud mental con un empleado potencial en una entrevista?\n",
        "* ¿Consideras que tu empresa se toma la salud mental tan en serio como la salud física?\n",
        "* ¿Has oído hablar u observado consecuencias negativas para los compañeros de trabajo con problemas de salud mental en su lugar de trabajo?\n",
        "*   Cualquier nota o comentario adicional."
      ],
      "metadata": {
        "id": "8ZZwpdtIHBrg"
      }
    },
    {
      "cell_type": "markdown",
      "source": [
        "**Muestra del conjunto de datos:**"
      ],
      "metadata": {
        "id": "z0eC1yYYZv54"
      }
    },
    {
      "cell_type": "code",
      "source": [
        "import pandas as pd\n",
        "\n",
        "url = \"https://raw.githubusercontent.com/PosgradoMNA/actividades-del-projecto-equipo-71/main/Mental_Health_Tech.csv\"\n",
        "df = pd.read_csv(url)\n",
        "\n",
        "df.head()\n"
      ],
      "metadata": {
        "colab": {
          "base_uri": "https://localhost:8080/",
          "height": 473
        },
        "id": "WA8mTHhqZWvW",
        "outputId": "43a632f3-2ffd-4713-e0d7-89dd62affcc7"
      },
      "execution_count": null,
      "outputs": [
        {
          "output_type": "execute_result",
          "data": {
            "text/plain": [
              "             Timestamp  Age  Gender         Country state self_employed  \\\n",
              "0  2014-08-27 11:29:31   37  Female   United States    IL           NaN   \n",
              "1  2014-08-27 11:29:37   44       M   United States    IN           NaN   \n",
              "2  2014-08-27 11:29:44   32    Male          Canada   NaN           NaN   \n",
              "3  2014-08-27 11:29:46   31    Male  United Kingdom   NaN           NaN   \n",
              "4  2014-08-27 11:30:22   31    Male   United States    TX           NaN   \n",
              "\n",
              "  family_history treatment work_interfere    no_employees  ...  \\\n",
              "0             No       Yes          Often            6-25  ...   \n",
              "1             No        No         Rarely  More than 1000  ...   \n",
              "2             No        No         Rarely            6-25  ...   \n",
              "3            Yes       Yes          Often          26-100  ...   \n",
              "4             No        No          Never         100-500  ...   \n",
              "\n",
              "                leave mental_health_consequence phys_health_consequence  \\\n",
              "0       Somewhat easy                        No                      No   \n",
              "1          Don't know                     Maybe                      No   \n",
              "2  Somewhat difficult                        No                      No   \n",
              "3  Somewhat difficult                       Yes                     Yes   \n",
              "4          Don't know                        No                      No   \n",
              "\n",
              "      coworkers supervisor mental_health_interview phys_health_interview  \\\n",
              "0  Some of them        Yes                      No                 Maybe   \n",
              "1            No         No                      No                    No   \n",
              "2           Yes        Yes                     Yes                   Yes   \n",
              "3  Some of them         No                   Maybe                 Maybe   \n",
              "4  Some of them        Yes                     Yes                   Yes   \n",
              "\n",
              "  mental_vs_physical obs_consequence comments  \n",
              "0                Yes              No      NaN  \n",
              "1         Don't know              No      NaN  \n",
              "2                 No              No      NaN  \n",
              "3                 No             Yes      NaN  \n",
              "4         Don't know              No      NaN  \n",
              "\n",
              "[5 rows x 27 columns]"
            ],
            "text/html": [
              "\n",
              "  <div id=\"df-69d53619-0486-4fa6-80cc-7e037d22885c\">\n",
              "    <div class=\"colab-df-container\">\n",
              "      <div>\n",
              "<style scoped>\n",
              "    .dataframe tbody tr th:only-of-type {\n",
              "        vertical-align: middle;\n",
              "    }\n",
              "\n",
              "    .dataframe tbody tr th {\n",
              "        vertical-align: top;\n",
              "    }\n",
              "\n",
              "    .dataframe thead th {\n",
              "        text-align: right;\n",
              "    }\n",
              "</style>\n",
              "<table border=\"1\" class=\"dataframe\">\n",
              "  <thead>\n",
              "    <tr style=\"text-align: right;\">\n",
              "      <th></th>\n",
              "      <th>Timestamp</th>\n",
              "      <th>Age</th>\n",
              "      <th>Gender</th>\n",
              "      <th>Country</th>\n",
              "      <th>state</th>\n",
              "      <th>self_employed</th>\n",
              "      <th>family_history</th>\n",
              "      <th>treatment</th>\n",
              "      <th>work_interfere</th>\n",
              "      <th>no_employees</th>\n",
              "      <th>...</th>\n",
              "      <th>leave</th>\n",
              "      <th>mental_health_consequence</th>\n",
              "      <th>phys_health_consequence</th>\n",
              "      <th>coworkers</th>\n",
              "      <th>supervisor</th>\n",
              "      <th>mental_health_interview</th>\n",
              "      <th>phys_health_interview</th>\n",
              "      <th>mental_vs_physical</th>\n",
              "      <th>obs_consequence</th>\n",
              "      <th>comments</th>\n",
              "    </tr>\n",
              "  </thead>\n",
              "  <tbody>\n",
              "    <tr>\n",
              "      <th>0</th>\n",
              "      <td>2014-08-27 11:29:31</td>\n",
              "      <td>37</td>\n",
              "      <td>Female</td>\n",
              "      <td>United States</td>\n",
              "      <td>IL</td>\n",
              "      <td>NaN</td>\n",
              "      <td>No</td>\n",
              "      <td>Yes</td>\n",
              "      <td>Often</td>\n",
              "      <td>6-25</td>\n",
              "      <td>...</td>\n",
              "      <td>Somewhat easy</td>\n",
              "      <td>No</td>\n",
              "      <td>No</td>\n",
              "      <td>Some of them</td>\n",
              "      <td>Yes</td>\n",
              "      <td>No</td>\n",
              "      <td>Maybe</td>\n",
              "      <td>Yes</td>\n",
              "      <td>No</td>\n",
              "      <td>NaN</td>\n",
              "    </tr>\n",
              "    <tr>\n",
              "      <th>1</th>\n",
              "      <td>2014-08-27 11:29:37</td>\n",
              "      <td>44</td>\n",
              "      <td>M</td>\n",
              "      <td>United States</td>\n",
              "      <td>IN</td>\n",
              "      <td>NaN</td>\n",
              "      <td>No</td>\n",
              "      <td>No</td>\n",
              "      <td>Rarely</td>\n",
              "      <td>More than 1000</td>\n",
              "      <td>...</td>\n",
              "      <td>Don't know</td>\n",
              "      <td>Maybe</td>\n",
              "      <td>No</td>\n",
              "      <td>No</td>\n",
              "      <td>No</td>\n",
              "      <td>No</td>\n",
              "      <td>No</td>\n",
              "      <td>Don't know</td>\n",
              "      <td>No</td>\n",
              "      <td>NaN</td>\n",
              "    </tr>\n",
              "    <tr>\n",
              "      <th>2</th>\n",
              "      <td>2014-08-27 11:29:44</td>\n",
              "      <td>32</td>\n",
              "      <td>Male</td>\n",
              "      <td>Canada</td>\n",
              "      <td>NaN</td>\n",
              "      <td>NaN</td>\n",
              "      <td>No</td>\n",
              "      <td>No</td>\n",
              "      <td>Rarely</td>\n",
              "      <td>6-25</td>\n",
              "      <td>...</td>\n",
              "      <td>Somewhat difficult</td>\n",
              "      <td>No</td>\n",
              "      <td>No</td>\n",
              "      <td>Yes</td>\n",
              "      <td>Yes</td>\n",
              "      <td>Yes</td>\n",
              "      <td>Yes</td>\n",
              "      <td>No</td>\n",
              "      <td>No</td>\n",
              "      <td>NaN</td>\n",
              "    </tr>\n",
              "    <tr>\n",
              "      <th>3</th>\n",
              "      <td>2014-08-27 11:29:46</td>\n",
              "      <td>31</td>\n",
              "      <td>Male</td>\n",
              "      <td>United Kingdom</td>\n",
              "      <td>NaN</td>\n",
              "      <td>NaN</td>\n",
              "      <td>Yes</td>\n",
              "      <td>Yes</td>\n",
              "      <td>Often</td>\n",
              "      <td>26-100</td>\n",
              "      <td>...</td>\n",
              "      <td>Somewhat difficult</td>\n",
              "      <td>Yes</td>\n",
              "      <td>Yes</td>\n",
              "      <td>Some of them</td>\n",
              "      <td>No</td>\n",
              "      <td>Maybe</td>\n",
              "      <td>Maybe</td>\n",
              "      <td>No</td>\n",
              "      <td>Yes</td>\n",
              "      <td>NaN</td>\n",
              "    </tr>\n",
              "    <tr>\n",
              "      <th>4</th>\n",
              "      <td>2014-08-27 11:30:22</td>\n",
              "      <td>31</td>\n",
              "      <td>Male</td>\n",
              "      <td>United States</td>\n",
              "      <td>TX</td>\n",
              "      <td>NaN</td>\n",
              "      <td>No</td>\n",
              "      <td>No</td>\n",
              "      <td>Never</td>\n",
              "      <td>100-500</td>\n",
              "      <td>...</td>\n",
              "      <td>Don't know</td>\n",
              "      <td>No</td>\n",
              "      <td>No</td>\n",
              "      <td>Some of them</td>\n",
              "      <td>Yes</td>\n",
              "      <td>Yes</td>\n",
              "      <td>Yes</td>\n",
              "      <td>Don't know</td>\n",
              "      <td>No</td>\n",
              "      <td>NaN</td>\n",
              "    </tr>\n",
              "  </tbody>\n",
              "</table>\n",
              "<p>5 rows × 27 columns</p>\n",
              "</div>\n",
              "      <button class=\"colab-df-convert\" onclick=\"convertToInteractive('df-69d53619-0486-4fa6-80cc-7e037d22885c')\"\n",
              "              title=\"Convert this dataframe to an interactive table.\"\n",
              "              style=\"display:none;\">\n",
              "        \n",
              "  <svg xmlns=\"http://www.w3.org/2000/svg\" height=\"24px\"viewBox=\"0 0 24 24\"\n",
              "       width=\"24px\">\n",
              "    <path d=\"M0 0h24v24H0V0z\" fill=\"none\"/>\n",
              "    <path d=\"M18.56 5.44l.94 2.06.94-2.06 2.06-.94-2.06-.94-.94-2.06-.94 2.06-2.06.94zm-11 1L8.5 8.5l.94-2.06 2.06-.94-2.06-.94L8.5 2.5l-.94 2.06-2.06.94zm10 10l.94 2.06.94-2.06 2.06-.94-2.06-.94-.94-2.06-.94 2.06-2.06.94z\"/><path d=\"M17.41 7.96l-1.37-1.37c-.4-.4-.92-.59-1.43-.59-.52 0-1.04.2-1.43.59L10.3 9.45l-7.72 7.72c-.78.78-.78 2.05 0 2.83L4 21.41c.39.39.9.59 1.41.59.51 0 1.02-.2 1.41-.59l7.78-7.78 2.81-2.81c.8-.78.8-2.07 0-2.86zM5.41 20L4 18.59l7.72-7.72 1.47 1.35L5.41 20z\"/>\n",
              "  </svg>\n",
              "      </button>\n",
              "      \n",
              "  <style>\n",
              "    .colab-df-container {\n",
              "      display:flex;\n",
              "      flex-wrap:wrap;\n",
              "      gap: 12px;\n",
              "    }\n",
              "\n",
              "    .colab-df-convert {\n",
              "      background-color: #E8F0FE;\n",
              "      border: none;\n",
              "      border-radius: 50%;\n",
              "      cursor: pointer;\n",
              "      display: none;\n",
              "      fill: #1967D2;\n",
              "      height: 32px;\n",
              "      padding: 0 0 0 0;\n",
              "      width: 32px;\n",
              "    }\n",
              "\n",
              "    .colab-df-convert:hover {\n",
              "      background-color: #E2EBFA;\n",
              "      box-shadow: 0px 1px 2px rgba(60, 64, 67, 0.3), 0px 1px 3px 1px rgba(60, 64, 67, 0.15);\n",
              "      fill: #174EA6;\n",
              "    }\n",
              "\n",
              "    [theme=dark] .colab-df-convert {\n",
              "      background-color: #3B4455;\n",
              "      fill: #D2E3FC;\n",
              "    }\n",
              "\n",
              "    [theme=dark] .colab-df-convert:hover {\n",
              "      background-color: #434B5C;\n",
              "      box-shadow: 0px 1px 3px 1px rgba(0, 0, 0, 0.15);\n",
              "      filter: drop-shadow(0px 1px 2px rgba(0, 0, 0, 0.3));\n",
              "      fill: #FFFFFF;\n",
              "    }\n",
              "  </style>\n",
              "\n",
              "      <script>\n",
              "        const buttonEl =\n",
              "          document.querySelector('#df-69d53619-0486-4fa6-80cc-7e037d22885c button.colab-df-convert');\n",
              "        buttonEl.style.display =\n",
              "          google.colab.kernel.accessAllowed ? 'block' : 'none';\n",
              "\n",
              "        async function convertToInteractive(key) {\n",
              "          const element = document.querySelector('#df-69d53619-0486-4fa6-80cc-7e037d22885c');\n",
              "          const dataTable =\n",
              "            await google.colab.kernel.invokeFunction('convertToInteractive',\n",
              "                                                     [key], {});\n",
              "          if (!dataTable) return;\n",
              "\n",
              "          const docLinkHtml = 'Like what you see? Visit the ' +\n",
              "            '<a target=\"_blank\" href=https://colab.research.google.com/notebooks/data_table.ipynb>data table notebook</a>'\n",
              "            + ' to learn more about interactive tables.';\n",
              "          element.innerHTML = '';\n",
              "          dataTable['output_type'] = 'display_data';\n",
              "          await google.colab.output.renderOutput(dataTable, element);\n",
              "          const docLink = document.createElement('div');\n",
              "          docLink.innerHTML = docLinkHtml;\n",
              "          element.appendChild(docLink);\n",
              "        }\n",
              "      </script>\n",
              "    </div>\n",
              "  </div>\n",
              "  "
            ]
          },
          "metadata": {},
          "execution_count": 1
        }
      ]
    },
    {
      "cell_type": "markdown",
      "source": [
        "**¿Cuáles son algunas de las preguntas de investigación que podría responder con estos datos? Enumere al menos ocho.**"
      ],
      "metadata": {
        "id": "wkvP-rWZvIVk"
      }
    },
    {
      "cell_type": "markdown",
      "source": [
        "1.   ¿Qué porcentaje de trabajadores presenta transtornos mentales?\n",
        "2.   ¿Cuáles son los estados de Estados Unidos que presentan mayor número de trabajadores con transtornos mentales?\n",
        "3.   ¿Qué porcentaje de trabajadores que presentan transtornos mentales ha buscado tratamientos o apoyo profesional?\n",
        "4.   ¿Cuál es la edad promedio de trabajadores que presentan transtornos mentales?\n",
        "5.   ¿Los antecedentes familiares son un factor para presentar transtornos mentales?\n",
        "6.   ¿Qué tipo de trabajadores es más común de presentar transtornos mentales, empleados de una compañía o personas que trabajan por su cuenta?\n",
        "7.   ¿El número de empleados de una empresa es un factor para que una persona desarrolle transtornos mentales?\n",
        "8.   ¿Qué porcentaje de empresas ofrece recursos o ayuda a sus empleados que presentan transtornos mentales?\n",
        "9. ¿El trabajo remoto reduce o aumenta los casos de trastornos mentales?\n",
        "10.\t¿Los trabajos relacionados con tecnología tienen algún efecto en los trastornos mentales?\n",
        "11.\t¿Cuál es la aproximación a tratar los trastornos mentales en las empresas?\n",
        "12.\t¿Qué porcentaje de las empresas se enfoca en la salud mental de sus empleados?"
      ],
      "metadata": {
        "id": "WFPBn_rdaB9M"
      }
    },
    {
      "cell_type": "markdown",
      "source": [
        "**¿Qué actor (empresa, sector de la sociedad, organismo descentralizado, gobierno, etc.) estaría interesado en las preguntas mencionadas que identificó?**\n",
        "\n"
      ],
      "metadata": {
        "id": "R_hP-b1WvL0q"
      }
    },
    {
      "cell_type": "markdown",
      "source": [
        "1.   Médicos investigadores, o especialistas en el área de salud mental que estén interesados en realizar investigación.\n",
        "2.   Directivos que necesiten estar informados de la situación de sus empleados.\n",
        "3.   Mánagers, líderes de equipo, o personal de recursos humanos que tengan un interés por los resultados obtenidos de los empleados dentro de sus respectiva empresa.\n",
        "4.   Organizaciones que deseen examinar los resultados obtenidos con el fin de proporcionar ayuda profesional a empleados de una compañía.\n",
        "5.\tEmpresas que tengan pensado abrirse al trabajo remoto.\n",
        "6.\tEl sector salud del gobierno se beneficiaria de esta investigación para saber que lineamientos dictar a las empresas para reducir casos severos de trastornos mentales.\n",
        "7.\tLa población en edad laboral que este pensando en entrar a una empresa de tecnología.\n",
        "8.\tA la academia, para preparar a sus alumnos y fomentar la salud mental a los próximos profesionistas que esta desarrollará.\n",
        "\n",
        "\n",
        "\n"
      ],
      "metadata": {
        "id": "ZhIcAsXyaG4b"
      }
    }
  ]
}