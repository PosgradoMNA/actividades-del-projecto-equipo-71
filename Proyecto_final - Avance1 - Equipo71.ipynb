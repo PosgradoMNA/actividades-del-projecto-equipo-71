{
  "nbformat": 4,
  "nbformat_minor": 0,
  "metadata": {
    "colab": {
      "provenance": [],
      "authorship_tag": "ABX9TyM6+/2D6hC8cEfAvKtD7As/",
      "include_colab_link": true
    },
    "kernelspec": {
      "name": "python3",
      "display_name": "Python 3"
    },
    "language_info": {
      "name": "python"
    }
  },
  "cells": [
    {
      "cell_type": "markdown",
      "metadata": {
        "id": "view-in-github",
        "colab_type": "text"
      },
      "source": [
        "<a href=\"https://colab.research.google.com/github/PosgradoMNA/actividades-del-projecto-equipo-71/blob/main/Proyecto_final%20-%20Avance1%20-%20Equipo71.ipynb\" target=\"_parent\"><img src=\"https://colab.research.google.com/assets/colab-badge.svg\" alt=\"Open In Colab\"/></a>"
      ]
    },
    {
      "cell_type": "markdown",
      "source": [
        "# Proyecto final - Avance 1"
      ],
      "metadata": {
        "id": "BYZoMS3tkdgL"
      }
    },
    {
      "cell_type": "markdown",
      "source": [
        "### Equipo 71 "
      ],
      "metadata": {
        "id": "v9WCApoPrUcB"
      }
    },
    {
      "cell_type": "markdown",
      "source": [
        "Integrantes del equipo:\n",
        "\n",
        "*   Francisco Xavier Bastidas Moreno | A01794188\n",
        "*   Ignacio Antonio Quintero Chávez | A01794419\n",
        "\n",
        "\n",
        "\n"
      ],
      "metadata": {
        "id": "1rpA_Sj3rjYc"
      }
    },
    {
      "cell_type": "markdown",
      "source": [
        "**Nombre que caracteriza el conjunto de datos:**\n",
        "\n",
        "Mental Health in Tech Survey\n",
        "\n"
      ],
      "metadata": {
        "id": "DPnVx0hkstme"
      }
    },
    {
      "cell_type": "markdown",
      "source": [
        "**¿Qué organización lo generó?**\n",
        "\n",
        "Open Sourcing Mental Illness - https://osmhhelp.org/"
      ],
      "metadata": {
        "id": "rXPRsk-BuhCa"
      }
    },
    {
      "cell_type": "markdown",
      "source": [
        "**Incluya un enlace de Internet donde se pueda descargar la base de datos en línea**\n",
        "\n",
        "https://www.kaggle.com/datasets/osmi/mental-health-in-tech-survey"
      ],
      "metadata": {
        "id": "5d_kvH1tuw7B"
      }
    },
    {
      "cell_type": "markdown",
      "source": [
        "**Describe el conjunto de datos. ¿Qué datos contiene?**\n",
        "\n"
      ],
      "metadata": {
        "id": "xb0OUYvXu8sp"
      }
    },
    {
      "cell_type": "markdown",
      "source": [
        "**¿Cuáles son algunas de las preguntas de investigación que podría responder con estos datos? Enumere al menos ocho.**"
      ],
      "metadata": {
        "id": "wkvP-rWZvIVk"
      }
    },
    {
      "cell_type": "markdown",
      "source": [
        "**¿Qué actor (empresa, sector de la sociedad, organismo descentralizado, gobierno, etc.) estaría interesado en las preguntas mencionadas que identificó?**\n",
        "\n"
      ],
      "metadata": {
        "id": "R_hP-b1WvL0q"
      }
    }
  ]
}