{
  "nbformat": 4,
  "nbformat_minor": 0,
  "metadata": {
    "colab": {
      "provenance": [],
      "authorship_tag": "ABX9TyPAdwf4WSFLdeNgaQcdOnCo",
      "include_colab_link": true
    },
    "kernelspec": {
      "name": "python3",
      "display_name": "Python 3"
    },
    "language_info": {
      "name": "python"
    }
  },
  "cells": [
    {
      "cell_type": "markdown",
      "metadata": {
        "id": "view-in-github",
        "colab_type": "text"
      },
      "source": [
        "<a href=\"https://colab.research.google.com/github/PosgradoMNA/actividades-del-projecto-equipo-71/blob/main/Semana_4_Actividad_1.ipynb\" target=\"_parent\"><img src=\"https://colab.research.google.com/assets/colab-badge.svg\" alt=\"Open In Colab\"/></a>"
      ]
    },
    {
      "cell_type": "markdown",
      "source": [
        "# Ciencia y analítica de datos\n",
        "## Semana 4 - Actividad 1\n",
        "### Dimension Reduction\n"
      ],
      "metadata": {
        "id": "GM5ka6TjjtF8"
      }
    },
    {
      "cell_type": "markdown",
      "source": [
        "* Equipo:\n",
        "1. Ignacio Antonio Quintero Chávez | A01794419\n",
        "2. Francisco Xavier Bastidas Moreno | A01794188\n",
        "\n",
        "\n",
        "* Profesor: Jobish Vallikavungal Devassia.\n",
        "* Fecha: 11 de Octubre del 2022."
      ],
      "metadata": {
        "id": "eJhXrXBPkSb2"
      }
    },
    {
      "cell_type": "markdown",
      "source": [
        "### Parte 1: Ejercicio guiado"
      ],
      "metadata": {
        "id": "l0JogyDAlMjc"
      }
    },
    {
      "cell_type": "code",
      "source": [],
      "metadata": {
        "id": "7_VD99aaoyde"
      },
      "execution_count": null,
      "outputs": []
    }
  ]
}