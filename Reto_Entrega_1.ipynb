{
  "nbformat": 4,
  "nbformat_minor": 0,
  "metadata": {
    "colab": {
      "provenance": [],
      "authorship_tag": "ABX9TyO/8F0DlB3Z7Wweu6C0lhAM",
      "include_colab_link": true
    },
    "kernelspec": {
      "name": "python3",
      "display_name": "Python 3"
    },
    "language_info": {
      "name": "python"
    }
  },
  "cells": [
    {
      "cell_type": "markdown",
      "metadata": {
        "id": "view-in-github",
        "colab_type": "text"
      },
      "source": [
        "<a href=\"https://colab.research.google.com/github/PosgradoMNA/actividades-del-projecto-equipo-71/blob/main/Reto_Entrega_1.ipynb\" target=\"_parent\"><img src=\"https://colab.research.google.com/assets/colab-badge.svg\" alt=\"Open In Colab\"/></a>"
      ]
    },
    {
      "cell_type": "markdown",
      "source": [
        "# Ciencia y analítica de datos\n",
        "## Semana 9 - Reto - Entrega 1\n",
        "### Limpieza, análisis, visualización y kmeans"
      ],
      "metadata": {
        "id": "4jxSAfP4Wwp_"
      }
    },
    {
      "cell_type": "markdown",
      "source": [
        "* Equipo:\n",
        "1. Ignacio Antonio Quintero Chávez | A01794419\n",
        "2. Francisco Xavier Bastidas Moreno | A01794188\n",
        "\n",
        "\n",
        "* Profesora: María de la Paz Rico Fernández\n",
        "* Fecha: 16 de Noviembre del 2022."
      ],
      "metadata": {
        "id": "X1TIz7PhW9DO"
      }
    },
    {
      "cell_type": "code",
      "source": [],
      "metadata": {
        "id": "Bx-S4qFhW7Zi"
      },
      "execution_count": null,
      "outputs": []
    }
  ]
}